{
 "cells": [
  {
   "cell_type": "markdown",
   "id": "coated-bikini",
   "metadata": {},
   "source": [
    "# Exploration préliminaire\n",
    "\n",
    "Extraire l’ensemble des lignes (rows) et stocker ces informations dans une variable de type List \n",
    "○ Doc officielle sur les csv : \n",
    "https://docs.python.org/3/library/csv.html \n",
    "○ Doc officielle sur les list (tutoriel) : \n",
    "https://docs.python.org/fr/3/tutorial/introduction.html#lists "
   ]
  },
  {
   "cell_type": "code",
   "execution_count": 2,
   "id": "intelligent-coral",
   "metadata": {},
   "outputs": [],
   "source": [
    "import csv"
   ]
  },
  {
   "cell_type": "code",
   "execution_count": 3,
   "id": "wrong-insert",
   "metadata": {},
   "outputs": [],
   "source": [
    "with open('../data/arbres.csv', newline='') as f:\n",
    "    reader=csv.reader(f)\n",
    "    data=list(reader)"
   ]
  },
  {
   "cell_type": "markdown",
   "id": "anticipated-barrel",
   "metadata": {},
   "source": [
    "Extraire la première et la seconde ligne du fichier puis extraire la 2nd colonne."
   ]
  },
  {
   "cell_type": "code",
   "execution_count": 4,
   "id": "funny-programming",
   "metadata": {},
   "outputs": [],
   "source": [
    "d0 = data[0]\n",
    "d1 = data[1]\n",
    "#print(d0)\n",
    "#print(d1)\n",
    "c2_data = [row[1] for row in data[1:]]\n",
    "#print(tmp)"
   ]
  },
  {
   "cell_type": "markdown",
   "id": "derived-paris",
   "metadata": {},
   "source": [
    "récupérer la colonne correspondant à l'année de plantation\n",
    "la lg suivante permet d'extraire la colonne 19 dans le fichier data\n",
    "en omettant la première ligne qui correspond au titre"
   ]
  },
  {
   "cell_type": "code",
   "execution_count": 13,
   "id": "italic-rainbow",
   "metadata": {
    "scrolled": false
   },
   "outputs": [],
   "source": [
    "annees = [row[19] for row in data[1:]]\n",
    "#annees"
   ]
  },
  {
   "cell_type": "markdown",
   "id": "southern-weight",
   "metadata": {},
   "source": [
    "Afficher les 50 premières lignes et les 50 dernières lignes de cette liste. ○ List slicing : https://www.geeksforgeeks.org/python-list-slicing/ "
   ]
  },
  {
   "cell_type": "code",
   "execution_count": 14,
   "id": "associate-classroom",
   "metadata": {},
   "outputs": [
    {
     "name": "stdout",
     "output_type": "stream",
     "text": [
      "['1987', '1996', '2014', '2014', '2014', '2014', '1981', '1981', '1981', '1981', '1981', '2014', '1981', '1981', '1981', '1981', '1981', '2006', '2006', '1981', '1981', '2005', '2005', '1980', '1980', '1980', '1980', '2001', '2001', '2001', '2001', '2001', '2008', '2001', '2001', '2001', '2001', '2008', '2001', '2001', '2001', '2001', '2001', '2001', '2001', '2001', '2001', '2001', '2008', '2001']\n"
     ]
    }
   ],
   "source": [
    "p50 = annees[0:50]\n",
    "d50 = annees[len(annees)-50:len(annees)]\n",
    "#print(p50)\n",
    "print(d50)"
   ]
  },
  {
   "cell_type": "markdown",
   "id": "sought-thought",
   "metadata": {},
   "source": [
    "Combien d’arbres sont recensés dans ce jeu de données ? \n",
    "○ Function len : https://www.w3schools.com/python/ref_func_len.asp"
   ]
  },
  {
   "cell_type": "code",
   "execution_count": 15,
   "id": "swiss-administration",
   "metadata": {},
   "outputs": [
    {
     "data": {
      "text/plain": [
       "31874"
      ]
     },
     "execution_count": 15,
     "metadata": {},
     "output_type": "execute_result"
    }
   ],
   "source": [
    "len(annees)"
   ]
  },
  {
   "cell_type": "markdown",
   "id": "opposed-photographer",
   "metadata": {},
   "source": [
    "Pour combien d’arbres manque-t-il l’information concernant la date de plantation ? (Vous pouvez essayer de le faire d’au moins deux manières différentes.) \n",
    "○ Function count : \n",
    "https://www.programiz.com/python-programming/methods/list/count\n"
   ]
  },
  {
   "cell_type": "code",
   "execution_count": 19,
   "id": "foster-ocean",
   "metadata": {},
   "outputs": [
    {
     "name": "stdout",
     "output_type": "stream",
     "text": [
      "The count of empty is: 1007\n"
     ]
    }
   ],
   "source": [
    "count_missing = annees.count('')\n",
    "# print count\n",
    "print('The count of empty is:', count_missing)"
   ]
  },
  {
   "cell_type": "markdown",
   "id": "selected-thought",
   "metadata": {},
   "source": [
    "❏ Combien d’arbres ont été plantés l’année de votre naissance ? "
   ]
  },
  {
   "cell_type": "code",
   "execution_count": 55,
   "id": "crazy-percentage",
   "metadata": {
    "scrolled": false
   },
   "outputs": [
    {
     "name": "stdout",
     "output_type": "stream",
     "text": [
      "Since you were born 15088 trees were planted in Grenoble\n"
     ]
    }
   ],
   "source": [
    "yb = 1987 #year of birth\n",
    "#replace '' by 0\n",
    "annees_c=list(annees) #copy list annees\n",
    "tmp=[annees_c.remove('') for n in annees_c[:] if n=='']\n",
    "#count trees since year of birth\n",
    "count_sinceb = [n for n in annees_c[:] if float(n) >= yb]\n",
    "print(\"Since you were born\",len(count_sinceb),\"trees were planted in Grenoble\")"
   ]
  },
  {
   "cell_type": "markdown",
   "id": "substantial-puppy",
   "metadata": {},
   "source": [
    "Quelle est la plus ancienne année de plantation recensée dans ce dataset ? La plus récente ? "
   ]
  },
  {
   "cell_type": "code",
   "execution_count": 59,
   "id": "friendly-centre",
   "metadata": {},
   "outputs": [
    {
     "name": "stdout",
     "output_type": "stream",
     "text": [
      "First tree was planted in Grenoble in 1924\n",
      "Last tree was planted in Grenoble in 2019\n"
     ]
    }
   ],
   "source": [
    "annees_min=min(annees_c)\n",
    "annees_max=max(annees_c)\n",
    "print(\"First tree was planted in Grenoble in\",annees_min)\n",
    "print(\"Last tree was planted in Grenoble in\",annees_max)"
   ]
  },
  {
   "cell_type": "markdown",
   "id": "spare-thriller",
   "metadata": {},
   "source": [
    "Combien d’arbres ont été plantés année par année (ex : 1987 : 771, 1988 : 266, etc…) ?"
   ]
  },
  {
   "cell_type": "code",
   "execution_count": 87,
   "id": "atmospheric-collector",
   "metadata": {},
   "outputs": [],
   "source": [
    "list_annees=list(range(int(annees_min),int(annees_max)))\n",
    "count_by_year=[{str(n):annees_c.count(str(n))} for n in list_annees if annees_c.count(str(n))!=0]"
   ]
  },
  {
   "cell_type": "markdown",
   "id": "portable-waterproof",
   "metadata": {},
   "source": [
    " Combien d’arbres ont été plantés en moyenne chaque année ? ○ Moyenne d’une liste de deux manières : \n",
    "https://www.geeksforgeeks.org/find-average-list-python/ "
   ]
  },
  {
   "cell_type": "code",
   "execution_count": null,
   "id": "together-lodge",
   "metadata": {},
   "outputs": [],
   "source": []
  }
 ],
 "metadata": {
  "kernelspec": {
   "display_name": "Python 3",
   "language": "python",
   "name": "python3"
  },
  "language_info": {
   "codemirror_mode": {
    "name": "ipython",
    "version": 3
   },
   "file_extension": ".py",
   "mimetype": "text/x-python",
   "name": "python",
   "nbconvert_exporter": "python",
   "pygments_lexer": "ipython3",
   "version": "3.9.5"
  },
  "latex_envs": {
   "LaTeX_envs_menu_present": true,
   "autoclose": false,
   "autocomplete": true,
   "bibliofile": "biblio.bib",
   "cite_by": "apalike",
   "current_citInitial": 1,
   "eqLabelWithNumbers": true,
   "eqNumInitial": 1,
   "hotkeys": {
    "equation": "Ctrl-E",
    "itemize": "Ctrl-I"
   },
   "labels_anchors": false,
   "latex_user_defs": false,
   "report_style_numbering": false,
   "user_envs_cfg": false
  },
  "toc": {
   "base_numbering": 1,
   "nav_menu": {},
   "number_sections": true,
   "sideBar": true,
   "skip_h1_title": false,
   "title_cell": "Table of Contents",
   "title_sidebar": "Contents",
   "toc_cell": false,
   "toc_position": {
    "height": "calc(100% - 180px)",
    "left": "10px",
    "top": "150px",
    "width": "165px"
   },
   "toc_section_display": true,
   "toc_window_display": false
  }
 },
 "nbformat": 4,
 "nbformat_minor": 5
}
